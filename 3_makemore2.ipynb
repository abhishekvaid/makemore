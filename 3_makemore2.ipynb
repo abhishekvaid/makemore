{
  "cells": [
    {
      "cell_type": "markdown",
      "metadata": {
        "id": "view-in-github",
        "colab_type": "text"
      },
      "source": [
        "<a href=\"https://colab.research.google.com/github/abhishekvaid/makemore/blob/master/3_makemore2.ipynb\" target=\"_parent\"><img src=\"https://colab.research.google.com/assets/colab-badge.svg\" alt=\"Open In Colab\"/></a>"
      ]
    },
    {
      "cell_type": "code",
      "execution_count": 1,
      "metadata": {
        "id": "MvTMnuvDlx0j"
      },
      "outputs": [],
      "source": [
        "import torch\n",
        "import matplotlib.pyplot as plt\n",
        "%matplotlib inline\n",
        "import torch.nn.functional as F\n",
        "import random"
      ]
    },
    {
      "cell_type": "code",
      "source": [
        "# download the names.txt file from github\n",
        "!wget https://raw.githubusercontent.com/karpathy/makemore/master/names.txt"
      ],
      "metadata": {
        "colab": {
          "base_uri": "https://localhost:8080/"
        },
        "id": "PhGeGdIfmBMd",
        "outputId": "bb0c853b-ce1f-46a9-a8af-952a6ad8d641"
      },
      "execution_count": 3,
      "outputs": [
        {
          "output_type": "stream",
          "name": "stdout",
          "text": [
            "--2024-08-30 19:00:22--  https://raw.githubusercontent.com/karpathy/makemore/master/names.txt\n",
            "Resolving raw.githubusercontent.com (raw.githubusercontent.com)... 185.199.110.133, 185.199.111.133, 185.199.109.133, ...\n",
            "Connecting to raw.githubusercontent.com (raw.githubusercontent.com)|185.199.110.133|:443... connected.\n",
            "HTTP request sent, awaiting response... 200 OK\n",
            "Length: 228145 (223K) [text/plain]\n",
            "Saving to: ‘names.txt’\n",
            "\n",
            "\rnames.txt             0%[                    ]       0  --.-KB/s               \rnames.txt           100%[===================>] 222.80K  --.-KB/s    in 0.03s   \n",
            "\n",
            "2024-08-30 19:00:22 (6.25 MB/s) - ‘names.txt’ saved [228145/228145]\n",
            "\n"
          ]
        }
      ]
    },
    {
      "cell_type": "code",
      "execution_count": 4,
      "metadata": {
        "id": "F5vza79Rlx0k"
      },
      "outputs": [],
      "source": [
        "words = names = open(\"names.txt\").read().splitlines()\n",
        "chars = sorted(list(set(''.join(names))))\n",
        "stoi = { ch: i+1 for i, ch in enumerate(chars)}\n",
        "stoi[\".\"] = 0\n",
        "itos = { v:k for k, v in stoi.items()}"
      ]
    },
    {
      "cell_type": "code",
      "execution_count": 5,
      "metadata": {
        "id": "bdSAZsEGlx0k"
      },
      "outputs": [],
      "source": [
        "WINDOW_SIZE = 3\n",
        "\n",
        "def create_dataset(words):\n",
        "    X, Y = [], []\n",
        "    for w in words[:]:\n",
        "        window = [0] * WINDOW_SIZE\n",
        "        # print(w)\n",
        "        for ch in w + \".\":\n",
        "            ix = stoi[ch]\n",
        "            X.append(window)\n",
        "            Y.append(ix)\n",
        "            window = window[1:] + [ix]\n",
        "    return torch.tensor(X), torch.tensor(Y)\n",
        "\n",
        "# Create dataset\n",
        "random.shuffle(words)\n",
        "i, j = int(0.8*len(words)), int(0.9*len(words))\n",
        "\n",
        "Xtr, Ytr = create_dataset(words[:i])\n",
        "Xval, Yval = create_dataset(words[i:j])\n",
        "Xtest, Ytest = create_dataset(words[j:])"
      ]
    },
    {
      "cell_type": "code",
      "source": [
        "def find_loss(X, Y):\n",
        "    emb = Emb[X].view(-1, EMB_SIZE*WINDOW_SIZE)\n",
        "    a1 = torch.tanh(emb @ W1 + b1)\n",
        "    logits = a1 @ W2 + b2\n",
        "    loss = F.cross_entropy(logits, Y)\n",
        "    return loss.item()"
      ],
      "metadata": {
        "id": "BZj5rRGgoDIU"
      },
      "execution_count": 7,
      "outputs": []
    },
    {
      "cell_type": "code",
      "execution_count": 8,
      "metadata": {
        "id": "FrL1u0--lx0k"
      },
      "outputs": [],
      "source": [
        "# Setup Architecture of NN\n",
        "LEARNING_RATE = 0.1\n",
        "\n",
        "EMB_SIZE = 10\n",
        "g = torch.Generator().manual_seed(2147483647)\n",
        "Emb = torch.randn((len(stoi), EMB_SIZE))\n",
        "W1 = torch.randn((EMB_SIZE*WINDOW_SIZE, 200), generator=g)\n",
        "b1 = torch.randn(200, generator=g)\n",
        "W2 = torch.randn( (200, len(stoi)), generator=g)\n",
        "b2 = torch.randn(len(stoi), generator=g)\n",
        "parameters = [Emb, W1, b1, W2, b2]\n",
        "for p in parameters:\n",
        "    p.requires_grad = True\n"
      ]
    },
    {
      "cell_type": "code",
      "source": [
        "sum(p.nelement() for p in parameters) # number of parameters in total"
      ],
      "metadata": {
        "colab": {
          "base_uri": "https://localhost:8080/"
        },
        "id": "Fa-L4eDdqExy",
        "outputId": "dd90c175-853b-47b7-b6c1-21c6ebe4faad"
      },
      "execution_count": 9,
      "outputs": [
        {
          "output_type": "execute_result",
          "data": {
            "text/plain": [
              "11897"
            ]
          },
          "metadata": {},
          "execution_count": 9
        }
      ]
    },
    {
      "cell_type": "code",
      "execution_count": 19,
      "metadata": {
        "id": "2d-IVoUQlx0l"
      },
      "outputs": [],
      "source": [
        "def train(X, Y, init_network=False):\n",
        "    if init_network:\n",
        "        init_network()\n",
        "    losses = []\n",
        "    for i in range(500_000):\n",
        "        idxs = torch.randint(0, X.shape[0], (32,))\n",
        "        emb = Emb[X[idxs]].view(-1, EMB_SIZE*WINDOW_SIZE)\n",
        "        a1 = torch.tanh(emb @ W1 + b1)\n",
        "        logits = a1 @ W2 + b2\n",
        "\n",
        "        loss = F.cross_entropy(logits, Y[idxs])\n",
        "        losses.append(loss.item())\n",
        "\n",
        "        # Backward Pass\n",
        "        for p in parameters:\n",
        "            p.grad = None\n",
        "        loss.backward()\n",
        "        lr = LEARNING_RATE if i < 100_000 else (LEARNING_RATE / 10)\n",
        "        for p in parameters:\n",
        "            p.data += -lr * p.grad\n",
        "    return losses\n",
        "Losses = train(Xtr, Ytr)"
      ]
    },
    {
      "cell_type": "code",
      "execution_count": 21,
      "metadata": {
        "colab": {
          "base_uri": "https://localhost:8080/"
        },
        "id": "DECKfONDlx0l",
        "outputId": "7a3433a5-42d9-4a6e-ccf9-06baefa48b3a"
      },
      "outputs": [
        {
          "output_type": "stream",
          "name": "stdout",
          "text": [
            "2.035337209701538\n",
            "2.124830484390259\n",
            "2.131425380706787\n"
          ]
        }
      ],
      "source": [
        "print(find_loss(Xtr, Ytr))\n",
        "print(find_loss(Xval, Yval))\n",
        "print(find_loss(Xtest, Ytest))"
      ]
    },
    {
      "cell_type": "code",
      "execution_count": 22,
      "metadata": {
        "colab": {
          "base_uri": "https://localhost:8080/"
        },
        "id": "j7s_aLpSlx0m",
        "outputId": "e5f7892f-a434-4f8c-b491-f3c9d7476547"
      },
      "outputs": [
        {
          "output_type": "stream",
          "name": "stdout",
          "text": [
            "nuel.\n",
            "yuvie.\n",
            "kasha.\n",
            "lenni.\n",
            "mariance.\n",
            "copelymailani.\n",
            "mill.\n",
            "ivyn.\n",
            "laribell.\n",
            "lynn.\n",
            "marysharitza.\n",
            "braylane.\n",
            "atow.\n",
            "kena.\n",
            "kamari.\n",
            "elvani.\n",
            "arlin.\n",
            "kael.\n",
            "christan.\n",
            "suhaminder.\n",
            "do.\n",
            "tessy.\n",
            "jak.\n",
            "alari.\n",
            "briel.\n",
            "emilya.\n",
            "adarmeislee.\n",
            "amili.\n",
            "rah.\n",
            "kodah.\n",
            "very.\n",
            "kali.\n",
            "ary.\n",
            "victorrias.\n",
            "ram.\n",
            "mika.\n",
            "kalixa.\n",
            "issy.\n",
            "kaeliz.\n",
            "elien.\n",
            "cainna.\n",
            "ariarethenna.\n",
            "weslie.\n",
            "hashtonian.\n",
            "marleth.\n",
            "brettea.\n",
            "rhs.\n",
            "kosashitie.\n",
            "hid.\n",
            "izannadiszany.\n",
            "sham.\n",
            "jaron.\n",
            "elah.\n",
            "ery.\n",
            "heim.\n",
            "dathana.\n",
            "kekenithial.\n",
            "meline.\n",
            "khi.\n",
            "chi.\n",
            "ovani.\n",
            "ryleyan.\n",
            "broolum.\n",
            "caidaesy.\n",
            "devington.\n",
            "berton.\n",
            "lay.\n",
            "meh.\n",
            "marah.\n",
            "noli.\n",
            "hassia.\n",
            "alenia.\n",
            "sera.\n",
            "colderxie.\n",
            "ilson.\n",
            "emran.\n",
            "kamericus.\n",
            "melyn.\n",
            "suleigh.\n",
            "yank.\n",
            "adou.\n",
            "jasir.\n",
            "laya.\n",
            "kapristisia.\n",
            "kin.\n",
            "gionni.\n",
            "tos.\n",
            "shris.\n",
            "soutke.\n",
            "maryane.\n",
            "ilany.\n",
            "cannah.\n",
            "kymanvirhadaeson.\n",
            "kali.\n",
            "jaeel.\n",
            "noel.\n",
            "zephan.\n",
            "xaya.\n",
            "thris.\n",
            "berley.\n"
          ]
        }
      ],
      "source": [
        "# g = torch.Generator().manual_seed(2147483647)\n",
        "for i in range(100):\n",
        "    xidxs = [0]*WINDOW_SIZE\n",
        "    chars = []\n",
        "    while True:\n",
        "        I = Emb[torch.tensor(xidxs)].view(-1, WINDOW_SIZE*EMB_SIZE)\n",
        "        # print(X.shape)\n",
        "        a1 = torch.tanh(I @ W1 + b1)\n",
        "        logits = (a1 @ W2 + b2)\n",
        "        probs = F.softmax(logits, dim=1)\n",
        "        yidx = torch.multinomial(probs, num_samples=1, replacement=False, generator=g).item()\n",
        "        xidxs = (xidxs + [yidx])[-3:]\n",
        "        chars.append(itos[yidx])\n",
        "        if yidx == 0:\n",
        "            break\n",
        "    print(\"\".join(chars))"
      ]
    },
    {
      "cell_type": "code",
      "execution_count": null,
      "metadata": {
        "id": "Flf-oo-Ulx0m"
      },
      "outputs": [],
      "source": []
    }
  ],
  "metadata": {
    "kernelspec": {
      "display_name": "Python 3",
      "name": "python3"
    },
    "language_info": {
      "codemirror_mode": {
        "name": "ipython",
        "version": 3
      },
      "file_extension": ".py",
      "mimetype": "text/x-python",
      "name": "python",
      "nbconvert_exporter": "python",
      "pygments_lexer": "ipython3",
      "version": "3.9.12"
    },
    "colab": {
      "provenance": [],
      "gpuType": "V28",
      "include_colab_link": true
    },
    "accelerator": "TPU"
  },
  "nbformat": 4,
  "nbformat_minor": 0
}